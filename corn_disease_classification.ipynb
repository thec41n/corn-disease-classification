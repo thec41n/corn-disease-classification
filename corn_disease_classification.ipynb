{
  "nbformat": 4,
  "nbformat_minor": 0,
  "metadata": {
    "colab": {
      "provenance": [],
      "gpuType": "T4"
    },
    "kernelspec": {
      "name": "python3",
      "display_name": "Python 3"
    },
    "language_info": {
      "name": "python"
    },
    "accelerator": "GPU"
  },
  "cells": [
    {
      "cell_type": "code",
      "source": [
        "from google.colab import drive\n",
        "drive.mount('/content/drive')"
      ],
      "metadata": {
        "colab": {
          "base_uri": "https://localhost:8080/"
        },
        "id": "_qfoxeDkYo2l",
        "outputId": "6f3e3618-3e5c-4b77-b13e-3318c7e6060d"
      },
      "execution_count": null,
      "outputs": [
        {
          "output_type": "stream",
          "name": "stdout",
          "text": [
            "Mounted at /content/drive\n"
          ]
        }
      ]
    },
    {
      "cell_type": "code",
      "source": [
        "train_dir = '/content/drive/MyDrive/Colab_Notebooks/dataset/train'\n",
        "test_dir = '/content/drive/MyDrive/Colab_Notebooks/dataset/test'\n",
        "validation_dir = '/content/drive/MyDrive/Colab_Notebooks/dataset/validation'"
      ],
      "metadata": {
        "id": "pGzFDwnTZBjm"
      },
      "execution_count": null,
      "outputs": []
    },
    {
      "cell_type": "code",
      "execution_count": null,
      "metadata": {
        "id": "gdjS6WcPkNUz"
      },
      "outputs": [],
      "source": [
        "import numpy as np\n",
        "import matplotlib.pyplot as plt\n",
        "from tensorflow.keras.preprocessing.image import ImageDataGenerator\n",
        "from tensorflow.keras.applications import VGG16\n",
        "from tensorflow.keras.models import Model\n",
        "from tensorflow.keras.layers import Dense, Flatten, Dropout\n",
        "from tensorflow.keras.optimizers import Adam\n",
        "from tensorflow.keras.callbacks import EarlyStopping, ModelCheckpoint"
      ]
    },
    {
      "cell_type": "markdown",
      "source": [
        "# Parameter dasar"
      ],
      "metadata": {
        "id": "rvfYs1yFZb9g"
      }
    },
    {
      "cell_type": "code",
      "source": [
        "img_width, img_height = 224, 224\n",
        "batch_size = 32\n",
        "epochs = 30\n",
        "num_classes = 4"
      ],
      "metadata": {
        "id": "NoHWtrQrZYRo"
      },
      "execution_count": null,
      "outputs": []
    },
    {
      "cell_type": "markdown",
      "source": [
        "# Data augmentation untuk set pelatihan"
      ],
      "metadata": {
        "id": "pZyAyRAsZf6_"
      }
    },
    {
      "cell_type": "code",
      "source": [
        "train_datagen = ImageDataGenerator(\n",
        "    rescale=1./255,\n",
        "    rotation_range=20,\n",
        "    width_shift_range=0.2,\n",
        "    height_shift_range=0.2,\n",
        "    shear_range=0.2,\n",
        "    zoom_range=0.2,\n",
        "    horizontal_flip=True,\n",
        "    fill_mode='nearest'\n",
        ")"
      ],
      "metadata": {
        "id": "Fe1xXMyWZdcQ"
      },
      "execution_count": null,
      "outputs": []
    },
    {
      "cell_type": "markdown",
      "source": [
        "# Rescale saja untuk validasi dan pengujian"
      ],
      "metadata": {
        "id": "5i_osnxJZibs"
      }
    },
    {
      "cell_type": "code",
      "source": [
        "val_test_datagen = ImageDataGenerator(rescale=1./255)"
      ],
      "metadata": {
        "id": "V2KqsM9rZkrG"
      },
      "execution_count": null,
      "outputs": []
    },
    {
      "cell_type": "code",
      "source": [
        "# Data generator untuk train, validation, dan test\n",
        "train_generator = train_datagen.flow_from_directory(\n",
        "    train_dir,\n",
        "    target_size=(img_width, img_height),\n",
        "    batch_size=batch_size,\n",
        "    class_mode='categorical'\n",
        ")"
      ],
      "metadata": {
        "colab": {
          "base_uri": "https://localhost:8080/"
        },
        "id": "r5bcXzJoZnif",
        "outputId": "07e30edf-dcba-4c68-f155-c5bba30bec3e"
      },
      "execution_count": null,
      "outputs": [
        {
          "output_type": "stream",
          "name": "stdout",
          "text": [
            "Found 4188 images belonging to 4 classes.\n"
          ]
        }
      ]
    },
    {
      "cell_type": "code",
      "source": [
        "validation_generator = val_test_datagen.flow_from_directory(\n",
        "    validation_dir,\n",
        "    target_size=(img_width, img_height),\n",
        "    batch_size=batch_size,\n",
        "    class_mode='categorical'\n",
        ")\n",
        "\n",
        "test_generator = val_test_datagen.flow_from_directory(\n",
        "    test_dir,\n",
        "    target_size=(img_width, img_height),\n",
        "    batch_size=batch_size,\n",
        "    class_mode='categorical'\n",
        ")"
      ],
      "metadata": {
        "colab": {
          "base_uri": "https://localhost:8080/"
        },
        "id": "-ZPnRQhWZuin",
        "outputId": "af9a2dd6-ba1b-4c32-e497-ac2d0fb54e46"
      },
      "execution_count": null,
      "outputs": [
        {
          "output_type": "stream",
          "name": "stdout",
          "text": [
            "Found 86 images belonging to 4 classes.\n",
            "Found 86 images belonging to 4 classes.\n"
          ]
        }
      ]
    },
    {
      "cell_type": "markdown",
      "source": [
        "# Load VGG16 model tanpa fully connected layer atas"
      ],
      "metadata": {
        "id": "txUkXGTgZ0Vt"
      }
    },
    {
      "cell_type": "code",
      "source": [
        "base_model = VGG16(weights='imagenet', include_top=False, input_shape=(img_width, img_height, 3))"
      ],
      "metadata": {
        "colab": {
          "base_uri": "https://localhost:8080/"
        },
        "id": "mTN3EVapZ1OJ",
        "outputId": "616f4b4f-10e0-4c94-b13b-09cd2fd4a930"
      },
      "execution_count": null,
      "outputs": [
        {
          "output_type": "stream",
          "name": "stdout",
          "text": [
            "Downloading data from https://storage.googleapis.com/tensorflow/keras-applications/vgg16/vgg16_weights_tf_dim_ordering_tf_kernels_notop.h5\n",
            "\u001b[1m58889256/58889256\u001b[0m \u001b[32m━━━━━━━━━━━━━━━━━━━━\u001b[0m\u001b[37m\u001b[0m \u001b[1m0s\u001b[0m 0us/step\n"
          ]
        }
      ]
    },
    {
      "cell_type": "code",
      "source": [
        "# Membekukan layer VGG16 agar tidak dilatih ulang\n",
        "for layer in base_model.layers:\n",
        "    layer.trainable = False\n",
        "\n",
        "# Menambahkan lapisan fully connected baru\n",
        "x = base_model.output\n",
        "x = Flatten()(x)\n",
        "x = Dense(512, activation='relu')(x)\n",
        "x = Dropout(0.5)(x)\n",
        "predictions = Dense(num_classes, activation='softmax')(x)\n",
        "\n",
        "# Membuat model lengkap\n",
        "model = Model(inputs=base_model.input, outputs=predictions)"
      ],
      "metadata": {
        "id": "UFB91Pl-Z5FR"
      },
      "execution_count": null,
      "outputs": []
    },
    {
      "cell_type": "markdown",
      "source": [
        "# Kompilasi model"
      ],
      "metadata": {
        "id": "dWHC3WNoZ9Ax"
      }
    },
    {
      "cell_type": "code",
      "source": [
        "model.compile(optimizer=Adam(learning_rate=0.0001),\n",
        "              loss='categorical_crossentropy',\n",
        "              metrics=['accuracy'])\n",
        "\n",
        "# Callbacks\n",
        "early_stopping = EarlyStopping(monitor='val_loss', patience=5, restore_best_weights=True)\n",
        "model_checkpoint = ModelCheckpoint('/content/drive/MyDrive/Colab_Notebooks/best_corn_disease_model.keras', monitor='val_loss', save_best_only=True)\n",
        "\n",
        "# Pelatihan model\n",
        "history = model.fit(\n",
        "    train_generator,\n",
        "    steps_per_epoch=train_generator.samples // batch_size,\n",
        "    epochs=epochs,\n",
        "    validation_data=validation_generator,\n",
        "    validation_steps=validation_generator.samples // batch_size,\n",
        "    callbacks=[early_stopping, model_checkpoint]\n",
        ")"
      ],
      "metadata": {
        "colab": {
          "base_uri": "https://localhost:8080/"
        },
        "id": "6Q9oPPtYZ-bX",
        "outputId": "74c5fa1c-ef1e-49c6-b68c-a9f860aa7dcf"
      },
      "execution_count": null,
      "outputs": [
        {
          "output_type": "stream",
          "name": "stdout",
          "text": [
            "Epoch 1/30\n"
          ]
        },
        {
          "output_type": "stream",
          "name": "stderr",
          "text": [
            "/usr/local/lib/python3.10/dist-packages/keras/src/trainers/data_adapters/py_dataset_adapter.py:121: UserWarning: Your `PyDataset` class should call `super().__init__(**kwargs)` in its constructor. `**kwargs` can include `workers`, `use_multiprocessing`, `max_queue_size`. Do not pass these arguments to `fit()`, as they will be ignored.\n",
            "  self._warn_if_super_not_called()\n"
          ]
        },
        {
          "output_type": "stream",
          "name": "stdout",
          "text": [
            "\u001b[1m130/130\u001b[0m \u001b[32m━━━━━━━━━━━━━━━━━━━━\u001b[0m\u001b[37m\u001b[0m \u001b[1m1450s\u001b[0m 10s/step - accuracy: 0.6690 - loss: 0.8319 - val_accuracy: 0.8906 - val_loss: 0.2653\n",
            "Epoch 2/30\n",
            "\u001b[1m  1/130\u001b[0m \u001b[37m━━━━━━━━━━━━━━━━━━━━\u001b[0m \u001b[1m20s\u001b[0m 162ms/step - accuracy: 0.6875 - loss: 0.6326"
          ]
        },
        {
          "output_type": "stream",
          "name": "stderr",
          "text": [
            "/usr/lib/python3.10/contextlib.py:153: UserWarning: Your input ran out of data; interrupting training. Make sure that your dataset or generator can generate at least `steps_per_epoch * epochs` batches. You may need to use the `.repeat()` function when building your dataset.\n",
            "  self.gen.throw(typ, value, traceback)\n"
          ]
        },
        {
          "output_type": "stream",
          "name": "stdout",
          "text": [
            "\b\b\b\b\b\b\b\b\b\b\b\b\b\b\b\b\b\b\b\b\b\b\b\b\b\b\b\b\b\b\b\b\b\b\b\b\b\b\b\b\b\b\b\b\b\b\b\b\b\b\b\b\b\b\b\b\b\b\b\b\b\b\b\b\b\b\b\b\b\b\b\b\b\b\b\b\b\r\u001b[1m130/130\u001b[0m \u001b[32m━━━━━━━━━━━━━━━━━━━━\u001b[0m\u001b[37m\u001b[0m \u001b[1m19s\u001b[0m 144ms/step - accuracy: 0.6875 - loss: 0.6326 - val_accuracy: 0.9545 - val_loss: 0.2298\n",
            "Epoch 3/30\n",
            "\u001b[1m130/130\u001b[0m \u001b[32m━━━━━━━━━━━━━━━━━━━━\u001b[0m\u001b[37m\u001b[0m \u001b[1m78s\u001b[0m 571ms/step - accuracy: 0.8557 - loss: 0.3959 - val_accuracy: 0.9219 - val_loss: 0.1885\n",
            "Epoch 4/30\n",
            "\u001b[1m130/130\u001b[0m \u001b[32m━━━━━━━━━━━━━━━━━━━━\u001b[0m\u001b[37m\u001b[0m \u001b[1m3s\u001b[0m 21ms/step - accuracy: 0.8125 - loss: 0.4459 - val_accuracy: 0.9545 - val_loss: 0.1565\n",
            "Epoch 5/30\n",
            "\u001b[1m130/130\u001b[0m \u001b[32m━━━━━━━━━━━━━━━━━━━━\u001b[0m\u001b[37m\u001b[0m \u001b[1m75s\u001b[0m 540ms/step - accuracy: 0.8543 - loss: 0.3609 - val_accuracy: 0.9375 - val_loss: 0.1689\n",
            "Epoch 6/30\n",
            "\u001b[1m130/130\u001b[0m \u001b[32m━━━━━━━━━━━━━━━━━━━━\u001b[0m\u001b[37m\u001b[0m \u001b[1m2s\u001b[0m 18ms/step - accuracy: 0.8125 - loss: 0.4288 - val_accuracy: 1.0000 - val_loss: 0.0915\n",
            "Epoch 7/30\n",
            "\u001b[1m130/130\u001b[0m \u001b[32m━━━━━━━━━━━━━━━━━━━━\u001b[0m\u001b[37m\u001b[0m \u001b[1m79s\u001b[0m 538ms/step - accuracy: 0.8708 - loss: 0.3195 - val_accuracy: 0.9062 - val_loss: 0.1564\n",
            "Epoch 8/30\n",
            "\u001b[1m130/130\u001b[0m \u001b[32m━━━━━━━━━━━━━━━━━━━━\u001b[0m\u001b[37m\u001b[0m \u001b[1m1s\u001b[0m 6ms/step - accuracy: 0.8125 - loss: 0.3292 - val_accuracy: 0.8636 - val_loss: 0.1642\n",
            "Epoch 9/30\n",
            "\u001b[1m130/130\u001b[0m \u001b[32m━━━━━━━━━━━━━━━━━━━━\u001b[0m\u001b[37m\u001b[0m \u001b[1m83s\u001b[0m 553ms/step - accuracy: 0.8826 - loss: 0.2994 - val_accuracy: 0.9375 - val_loss: 0.1173\n",
            "Epoch 10/30\n",
            "\u001b[1m130/130\u001b[0m \u001b[32m━━━━━━━━━━━━━━━━━━━━\u001b[0m\u001b[37m\u001b[0m \u001b[1m0s\u001b[0m 896us/step - accuracy: 0.8438 - loss: 0.4592 - val_accuracy: 0.9091 - val_loss: 0.1931\n",
            "Epoch 11/30\n",
            "\u001b[1m130/130\u001b[0m \u001b[32m━━━━━━━━━━━━━━━━━━━━\u001b[0m\u001b[37m\u001b[0m \u001b[1m76s\u001b[0m 556ms/step - accuracy: 0.8820 - loss: 0.3007 - val_accuracy: 0.9531 - val_loss: 0.0995\n"
          ]
        }
      ]
    },
    {
      "cell_type": "markdown",
      "source": [
        "# Evaluasi model pada set pengujian"
      ],
      "metadata": {
        "id": "g-7N2lD8eupw"
      }
    },
    {
      "cell_type": "code",
      "source": [
        "test_loss, test_acc = model.evaluate(test_generator, steps=test_generator.samples // batch_size)\n",
        "print(f'Akurasi pada data uji: {test_acc * 100:.2f}%')"
      ],
      "metadata": {
        "colab": {
          "base_uri": "https://localhost:8080/"
        },
        "id": "UPw4ZQ3MetDP",
        "outputId": "19a5ec16-a542-4c0f-989d-bfcacb608fcc"
      },
      "execution_count": null,
      "outputs": [
        {
          "output_type": "stream",
          "name": "stdout",
          "text": [
            "\u001b[1m2/2\u001b[0m \u001b[32m━━━━━━━━━━━━━━━━━━━━\u001b[0m\u001b[37m\u001b[0m \u001b[1m0s\u001b[0m 129ms/step - accuracy: 0.9375 - loss: 0.1313\n",
            "Akurasi pada data uji: 92.19%\n"
          ]
        }
      ]
    },
    {
      "cell_type": "markdown",
      "source": [
        "# Plot akurasi dan loss"
      ],
      "metadata": {
        "id": "ReRGZX4Eexa-"
      }
    },
    {
      "cell_type": "code",
      "source": [
        "plt.figure(figsize=(12, 4))\n",
        "plt.subplot(1, 2, 1)\n",
        "plt.plot(history.history['accuracy'], label='Akurasi Pelatihan')\n",
        "plt.plot(history.history['val_accuracy'], label='Akurasi Validasi')\n",
        "plt.xlabel('Epoch')\n",
        "plt.ylabel('Akurasi')\n",
        "plt.legend()\n",
        "plt.title('Akurasi Pelatihan dan Validasi')\n",
        "\n",
        "plt.subplot(1, 2, 2)\n",
        "plt.plot(history.history['loss'], label='Loss Pelatihan')\n",
        "plt.plot(history.history['val_loss'], label='Loss Validasi')\n",
        "plt.xlabel('Epoch')\n",
        "plt.ylabel('Loss')\n",
        "plt.legend()\n",
        "plt.title('Loss Pelatihan dan Validasi')\n",
        "\n",
        "plt.show()"
      ],
      "metadata": {
        "colab": {
          "base_uri": "https://localhost:8080/",
          "height": 410
        },
        "id": "snO4NXdQeyOx",
        "outputId": "03957805-a974-48bc-a20d-7b2f88b16186"
      },
      "execution_count": null,
      "outputs": [
        {
          "output_type": "display_data",
          "data": {
            "text/plain": [
              "<Figure size 1200x400 with 2 Axes>"
            ],
            "image/png": "[encoded data removed]"
          },
          "metadata": {}
        }
      ]
    },
    {
      "cell_type": "markdown",
      "source": [
        "# Test hasil train"
      ],
      "metadata": {
        "id": "ZFAHozMmfcMr"
      }
    },
    {
      "cell_type": "code",
      "source": [
        "import os\n",
        "import numpy as np\n",
        "import tensorflow as tf\n",
        "from tensorflow.keras.preprocessing.image import load_img, img_to_array\n",
        "\n",
        "# Path folder test\n",
        "test_dir = '/content/drive/MyDrive/Colab_Notebooks/dataset/test'\n",
        "\n",
        "# Load model terbaik\n",
        "model = tf.keras.models.load_model('/content/drive/MyDrive/Colab_Notebooks/best_corn_disease_model.keras')\n",
        "print(\"Model loaded successfully.\")\n",
        "\n",
        "# Daftar kelas penyakit (tentukan manual jika `train_generator` tidak tersedia)\n",
        "class_labels = ['blight', 'common_rust', 'gray_leaf_spot', 'healthy']\n",
        "\n",
        "# Fungsi untuk memprediksi satu gambar\n",
        "def predict_image(image_path):\n",
        "    print(f\"Predicting for image: {image_path}\")\n",
        "    # Muat dan praproses gambar\n",
        "    img = load_img(image_path, target_size=(224, 224))\n",
        "    img_array = img_to_array(img)\n",
        "    img_array = np.expand_dims(img_array, axis=0)\n",
        "    img_array /= 255.0\n",
        "\n",
        "    # Lakukan prediksi\n",
        "    prediction = model.predict(img_array)\n",
        "    predicted_class = np.argmax(prediction, axis=1)[0]\n",
        "    return class_labels[predicted_class], prediction[0][predicted_class]\n",
        "\n",
        "# Loop melalui semua subfolder dan gambar di dalam test_dir\n",
        "for subdir, dirs, files in os.walk(test_dir):\n",
        "    for filename in files:\n",
        "        image_path = os.path.join(subdir, filename)\n",
        "        if filename.lower().endswith(('.png', '.jpg', '.jpeg')):\n",
        "            predicted_class, confidence = predict_image(image_path)\n",
        "            print(f\"Image: {filename} | Predicted class: {predicted_class} | Confidence: {confidence:.2f}\")"
      ],
      "metadata": {
        "colab": {
          "base_uri": "https://localhost:8080/"
        },
        "id": "M05TbeXwfasy",
        "outputId": "bb23b9fe-5132-4251-e2f8-24e0f8ce93f7"
      },
      "execution_count": 22,
      "outputs": [
        {
          "output_type": "stream",
          "name": "stdout",
          "text": [
            "Model loaded successfully.\n",
            "Predicting for image: /content/drive/MyDrive/Colab_Notebooks/dataset/test/healthy/Corn_Health (91).jpg\n",
            "\u001b[1m1/1\u001b[0m \u001b[32m━━━━━━━━━━━━━━━━━━━━\u001b[0m\u001b[37m\u001b[0m \u001b[1m0s\u001b[0m 380ms/step\n",
            "Image: Corn_Health (91).jpg | Predicted class: healthy | Confidence: 1.00\n",
            "Predicting for image: /content/drive/MyDrive/Colab_Notebooks/dataset/test/healthy/Corn_Health (88).jpg\n",
            "\u001b[1m1/1\u001b[0m \u001b[32m━━━━━━━━━━━━━━━━━━━━\u001b[0m\u001b[37m\u001b[0m \u001b[1m0s\u001b[0m 17ms/step\n",
            "Image: Corn_Health (88).jpg | Predicted class: healthy | Confidence: 1.00\n",
            "Predicting for image: /content/drive/MyDrive/Colab_Notebooks/dataset/test/healthy/Corn_Health (78).jpg\n",
            "\u001b[1m1/1\u001b[0m \u001b[32m━━━━━━━━━━━━━━━━━━━━\u001b[0m\u001b[37m\u001b[0m \u001b[1m0s\u001b[0m 16ms/step\n",
            "Image: Corn_Health (78).jpg | Predicted class: healthy | Confidence: 0.99\n",
            "Predicting for image: /content/drive/MyDrive/Colab_Notebooks/dataset/test/healthy/Corn_Health (79).jpg\n",
            "\u001b[1m1/1\u001b[0m \u001b[32m━━━━━━━━━━━━━━━━━━━━\u001b[0m\u001b[37m\u001b[0m \u001b[1m0s\u001b[0m 19ms/step\n",
            "Image: Corn_Health (79).jpg | Predicted class: healthy | Confidence: 0.99\n",
            "Predicting for image: /content/drive/MyDrive/Colab_Notebooks/dataset/test/healthy/Corn_Health (85).jpg\n",
            "\u001b[1m1/1\u001b[0m \u001b[32m━━━━━━━━━━━━━━━━━━━━\u001b[0m\u001b[37m\u001b[0m \u001b[1m0s\u001b[0m 19ms/step\n",
            "Image: Corn_Health (85).jpg | Predicted class: healthy | Confidence: 0.94\n",
            "Predicting for image: /content/drive/MyDrive/Colab_Notebooks/dataset/test/healthy/Corn_Health (83).jpg\n",
            "\u001b[1m1/1\u001b[0m \u001b[32m━━━━━━━━━━━━━━━━━━━━\u001b[0m\u001b[37m\u001b[0m \u001b[1m0s\u001b[0m 17ms/step\n",
            "Image: Corn_Health (83).jpg | Predicted class: healthy | Confidence: 1.00\n",
            "Predicting for image: /content/drive/MyDrive/Colab_Notebooks/dataset/test/healthy/Corn_Health (90).jpg\n",
            "\u001b[1m1/1\u001b[0m \u001b[32m━━━━━━━━━━━━━━━━━━━━\u001b[0m\u001b[37m\u001b[0m \u001b[1m0s\u001b[0m 18ms/step\n",
            "Image: Corn_Health (90).jpg | Predicted class: healthy | Confidence: 0.98\n",
            "Predicting for image: /content/drive/MyDrive/Colab_Notebooks/dataset/test/healthy/Corn_Health (75).jpg\n",
            "\u001b[1m1/1\u001b[0m \u001b[32m━━━━━━━━━━━━━━━━━━━━\u001b[0m\u001b[37m\u001b[0m \u001b[1m0s\u001b[0m 16ms/step\n",
            "Image: Corn_Health (75).jpg | Predicted class: healthy | Confidence: 1.00\n",
            "Predicting for image: /content/drive/MyDrive/Colab_Notebooks/dataset/test/healthy/Corn_Health (89).jpg\n",
            "\u001b[1m1/1\u001b[0m \u001b[32m━━━━━━━━━━━━━━━━━━━━\u001b[0m\u001b[37m\u001b[0m \u001b[1m0s\u001b[0m 20ms/step\n",
            "Image: Corn_Health (89).jpg | Predicted class: healthy | Confidence: 0.97\n",
            "Predicting for image: /content/drive/MyDrive/Colab_Notebooks/dataset/test/healthy/Corn_Health (84).jpg\n",
            "\u001b[1m1/1\u001b[0m \u001b[32m━━━━━━━━━━━━━━━━━━━━\u001b[0m\u001b[37m\u001b[0m \u001b[1m0s\u001b[0m 19ms/step\n",
            "Image: Corn_Health (84).jpg | Predicted class: healthy | Confidence: 0.98\n",
            "Predicting for image: /content/drive/MyDrive/Colab_Notebooks/dataset/test/healthy/Corn_Health (82).jpg\n",
            "\u001b[1m1/1\u001b[0m \u001b[32m━━━━━━━━━━━━━━━━━━━━\u001b[0m\u001b[37m\u001b[0m \u001b[1m0s\u001b[0m 19ms/step\n",
            "Image: Corn_Health (82).jpg | Predicted class: healthy | Confidence: 0.98\n",
            "Predicting for image: /content/drive/MyDrive/Colab_Notebooks/dataset/test/healthy/Corn_Health (87).jpg\n",
            "\u001b[1m1/1\u001b[0m \u001b[32m━━━━━━━━━━━━━━━━━━━━\u001b[0m\u001b[37m\u001b[0m \u001b[1m0s\u001b[0m 17ms/step\n",
            "Image: Corn_Health (87).jpg | Predicted class: healthy | Confidence: 1.00\n",
            "Predicting for image: /content/drive/MyDrive/Colab_Notebooks/dataset/test/healthy/Corn_Health (77).jpg\n",
            "\u001b[1m1/1\u001b[0m \u001b[32m━━━━━━━━━━━━━━━━━━━━\u001b[0m\u001b[37m\u001b[0m \u001b[1m0s\u001b[0m 20ms/step\n",
            "Image: Corn_Health (77).jpg | Predicted class: healthy | Confidence: 0.99\n",
            "Predicting for image: /content/drive/MyDrive/Colab_Notebooks/dataset/test/healthy/Corn_Health (81).jpg\n",
            "\u001b[1m1/1\u001b[0m \u001b[32m━━━━━━━━━━━━━━━━━━━━\u001b[0m\u001b[37m\u001b[0m \u001b[1m0s\u001b[0m 26ms/step\n",
            "Image: Corn_Health (81).jpg | Predicted class: healthy | Confidence: 1.00\n",
            "Predicting for image: /content/drive/MyDrive/Colab_Notebooks/dataset/test/healthy/Corn_Health (74).jpg\n",
            "\u001b[1m1/1\u001b[0m \u001b[32m━━━━━━━━━━━━━━━━━━━━\u001b[0m\u001b[37m\u001b[0m \u001b[1m0s\u001b[0m 22ms/step\n",
            "Image: Corn_Health (74).jpg | Predicted class: healthy | Confidence: 0.97\n",
            "Predicting for image: /content/drive/MyDrive/Colab_Notebooks/dataset/test/healthy/Corn_Health (86).jpg\n",
            "\u001b[1m1/1\u001b[0m \u001b[32m━━━━━━━━━━━━━━━━━━━━\u001b[0m\u001b[37m\u001b[0m \u001b[1m0s\u001b[0m 16ms/step\n",
            "Image: Corn_Health (86).jpg | Predicted class: healthy | Confidence: 0.97\n",
            "Predicting for image: /content/drive/MyDrive/Colab_Notebooks/dataset/test/healthy/Corn_Health (80).jpg\n",
            "\u001b[1m1/1\u001b[0m \u001b[32m━━━━━━━━━━━━━━━━━━━━\u001b[0m\u001b[37m\u001b[0m \u001b[1m0s\u001b[0m 16ms/step\n",
            "Image: Corn_Health (80).jpg | Predicted class: healthy | Confidence: 1.00\n",
            "Predicting for image: /content/drive/MyDrive/Colab_Notebooks/dataset/test/healthy/Corn_Health (76).jpg\n",
            "\u001b[1m1/1\u001b[0m \u001b[32m━━━━━━━━━━━━━━━━━━━━\u001b[0m\u001b[37m\u001b[0m \u001b[1m0s\u001b[0m 16ms/step\n",
            "Image: Corn_Health (76).jpg | Predicted class: healthy | Confidence: 0.98\n",
            "Predicting for image: /content/drive/MyDrive/Colab_Notebooks/dataset/test/healthy/Corn_Health (73).jpg\n",
            "\u001b[1m1/1\u001b[0m \u001b[32m━━━━━━━━━━━━━━━━━━━━\u001b[0m\u001b[37m\u001b[0m \u001b[1m0s\u001b[0m 16ms/step\n",
            "Image: Corn_Health (73).jpg | Predicted class: healthy | Confidence: 1.00\n",
            "Predicting for image: /content/drive/MyDrive/Colab_Notebooks/dataset/test/healthy/Corn_Health (96).jpg\n",
            "\u001b[1m1/1\u001b[0m \u001b[32m━━━━━━━━━━━━━━━━━━━━\u001b[0m\u001b[37m\u001b[0m \u001b[1m0s\u001b[0m 19ms/step\n",
            "Image: Corn_Health (96).jpg | Predicted class: healthy | Confidence: 0.99\n",
            "Predicting for image: /content/drive/MyDrive/Colab_Notebooks/dataset/test/healthy/Corn_Health (95).jpg\n",
            "\u001b[1m1/1\u001b[0m \u001b[32m━━━━━━━━━━━━━━━━━━━━\u001b[0m\u001b[37m\u001b[0m \u001b[1m0s\u001b[0m 18ms/step\n",
            "Image: Corn_Health (95).jpg | Predicted class: healthy | Confidence: 0.80\n",
            "Predicting for image: /content/drive/MyDrive/Colab_Notebooks/dataset/test/healthy/Corn_Health (99).jpg\n",
            "\u001b[1m1/1\u001b[0m \u001b[32m━━━━━━━━━━━━━━━━━━━━\u001b[0m\u001b[37m\u001b[0m \u001b[1m0s\u001b[0m 18ms/step\n",
            "Image: Corn_Health (99).jpg | Predicted class: healthy | Confidence: 0.99\n",
            "Predicting for image: /content/drive/MyDrive/Colab_Notebooks/dataset/test/healthy/Corn_Health (92).jpg\n",
            "\u001b[1m1/1\u001b[0m \u001b[32m━━━━━━━━━━━━━━━━━━━━\u001b[0m\u001b[37m\u001b[0m \u001b[1m0s\u001b[0m 18ms/step\n",
            "Image: Corn_Health (92).jpg | Predicted class: healthy | Confidence: 0.98\n",
            "Predicting for image: /content/drive/MyDrive/Colab_Notebooks/dataset/test/healthy/Corn_Health (97).jpg\n",
            "\u001b[1m1/1\u001b[0m \u001b[32m━━━━━━━━━━━━━━━━━━━━\u001b[0m\u001b[37m\u001b[0m \u001b[1m0s\u001b[0m 20ms/step\n",
            "Image: Corn_Health (97).jpg | Predicted class: healthy | Confidence: 0.99\n",
            "Predicting for image: /content/drive/MyDrive/Colab_Notebooks/dataset/test/healthy/Corn_Health (94).jpg\n",
            "\u001b[1m1/1\u001b[0m \u001b[32m━━━━━━━━━━━━━━━━━━━━\u001b[0m\u001b[37m\u001b[0m \u001b[1m0s\u001b[0m 18ms/step\n",
            "Image: Corn_Health (94).jpg | Predicted class: healthy | Confidence: 0.99\n",
            "Predicting for image: /content/drive/MyDrive/Colab_Notebooks/dataset/test/healthy/Corn_Health (98).jpg\n",
            "\u001b[1m1/1\u001b[0m \u001b[32m━━━━━━━━━━━━━━━━━━━━\u001b[0m\u001b[37m\u001b[0m \u001b[1m0s\u001b[0m 22ms/step\n",
            "Image: Corn_Health (98).jpg | Predicted class: healthy | Confidence: 0.96\n",
            "Predicting for image: /content/drive/MyDrive/Colab_Notebooks/dataset/test/healthy/Corn_Health (93).jpg\n",
            "\u001b[1m1/1\u001b[0m \u001b[32m━━━━━━━━━━━━━━━━━━━━\u001b[0m\u001b[37m\u001b[0m \u001b[1m0s\u001b[0m 25ms/step\n",
            "Image: Corn_Health (93).jpg | Predicted class: healthy | Confidence: 1.00\n",
            "Predicting for image: /content/drive/MyDrive/Colab_Notebooks/dataset/test/blight/Corn_Blight (467).JPG\n",
            "\u001b[1m1/1\u001b[0m \u001b[32m━━━━━━━━━━━━━━━━━━━━\u001b[0m\u001b[37m\u001b[0m \u001b[1m0s\u001b[0m 23ms/step\n",
            "Image: Corn_Blight (467).JPG | Predicted class: blight | Confidence: 0.92\n",
            "Predicting for image: /content/drive/MyDrive/Colab_Notebooks/dataset/test/blight/Corn_Blight (471).JPG\n",
            "\u001b[1m1/1\u001b[0m \u001b[32m━━━━━━━━━━━━━━━━━━━━\u001b[0m\u001b[37m\u001b[0m \u001b[1m0s\u001b[0m 19ms/step\n",
            "Image: Corn_Blight (471).JPG | Predicted class: blight | Confidence: 0.98\n",
            "Predicting for image: /content/drive/MyDrive/Colab_Notebooks/dataset/test/blight/Corn_Blight (463).JPG\n",
            "\u001b[1m1/1\u001b[0m \u001b[32m━━━━━━━━━━━━━━━━━━━━\u001b[0m\u001b[37m\u001b[0m \u001b[1m0s\u001b[0m 18ms/step\n",
            "Image: Corn_Blight (463).JPG | Predicted class: blight | Confidence: 0.67\n",
            "Predicting for image: /content/drive/MyDrive/Colab_Notebooks/dataset/test/blight/Corn_Blight (461).JPG\n",
            "\u001b[1m1/1\u001b[0m \u001b[32m━━━━━━━━━━━━━━━━━━━━\u001b[0m\u001b[37m\u001b[0m \u001b[1m0s\u001b[0m 31ms/step\n",
            "Image: Corn_Blight (461).JPG | Predicted class: blight | Confidence: 0.96\n",
            "Predicting for image: /content/drive/MyDrive/Colab_Notebooks/dataset/test/blight/Corn_Blight (474).JPG\n",
            "\u001b[1m1/1\u001b[0m \u001b[32m━━━━━━━━━━━━━━━━━━━━\u001b[0m\u001b[37m\u001b[0m \u001b[1m0s\u001b[0m 32ms/step\n",
            "Image: Corn_Blight (474).JPG | Predicted class: blight | Confidence: 0.66\n",
            "Predicting for image: /content/drive/MyDrive/Colab_Notebooks/dataset/test/blight/Corn_Blight (468).JPG\n",
            "\u001b[1m1/1\u001b[0m \u001b[32m━━━━━━━━━━━━━━━━━━━━\u001b[0m\u001b[37m\u001b[0m \u001b[1m0s\u001b[0m 32ms/step\n",
            "Image: Corn_Blight (468).JPG | Predicted class: blight | Confidence: 0.57\n",
            "Predicting for image: /content/drive/MyDrive/Colab_Notebooks/dataset/test/blight/Corn_Blight (469).JPG\n",
            "\u001b[1m1/1\u001b[0m \u001b[32m━━━━━━━━━━━━━━━━━━━━\u001b[0m\u001b[37m\u001b[0m \u001b[1m0s\u001b[0m 29ms/step\n",
            "Image: Corn_Blight (469).JPG | Predicted class: blight | Confidence: 0.88\n",
            "Predicting for image: /content/drive/MyDrive/Colab_Notebooks/dataset/test/blight/Corn_Blight (464).JPG\n",
            "\u001b[1m1/1\u001b[0m \u001b[32m━━━━━━━━━━━━━━━━━━━━\u001b[0m\u001b[37m\u001b[0m \u001b[1m0s\u001b[0m 24ms/step\n",
            "Image: Corn_Blight (464).JPG | Predicted class: blight | Confidence: 0.99\n",
            "Predicting for image: /content/drive/MyDrive/Colab_Notebooks/dataset/test/blight/Corn_Blight (465).JPG\n",
            "\u001b[1m1/1\u001b[0m \u001b[32m━━━━━━━━━━━━━━━━━━━━\u001b[0m\u001b[37m\u001b[0m \u001b[1m0s\u001b[0m 31ms/step\n",
            "Image: Corn_Blight (465).JPG | Predicted class: healthy | Confidence: 0.60\n",
            "Predicting for image: /content/drive/MyDrive/Colab_Notebooks/dataset/test/blight/Corn_Blight (462).JPG\n",
            "\u001b[1m1/1\u001b[0m \u001b[32m━━━━━━━━━━━━━━━━━━━━\u001b[0m\u001b[37m\u001b[0m \u001b[1m0s\u001b[0m 49ms/step\n",
            "Image: Corn_Blight (462).JPG | Predicted class: blight | Confidence: 0.81\n",
            "Predicting for image: /content/drive/MyDrive/Colab_Notebooks/dataset/test/blight/Corn_Blight (470).JPG\n",
            "\u001b[1m1/1\u001b[0m \u001b[32m━━━━━━━━━━━━━━━━━━━━\u001b[0m\u001b[37m\u001b[0m \u001b[1m0s\u001b[0m 27ms/step\n",
            "Image: Corn_Blight (470).JPG | Predicted class: blight | Confidence: 0.94\n",
            "Predicting for image: /content/drive/MyDrive/Colab_Notebooks/dataset/test/blight/Corn_Blight (473).JPG\n",
            "\u001b[1m1/1\u001b[0m \u001b[32m━━━━━━━━━━━━━━━━━━━━\u001b[0m\u001b[37m\u001b[0m \u001b[1m0s\u001b[0m 25ms/step\n",
            "Image: Corn_Blight (473).JPG | Predicted class: blight | Confidence: 0.96\n",
            "Predicting for image: /content/drive/MyDrive/Colab_Notebooks/dataset/test/blight/Corn_Blight (466).JPG\n",
            "\u001b[1m1/1\u001b[0m \u001b[32m━━━━━━━━━━━━━━━━━━━━\u001b[0m\u001b[37m\u001b[0m \u001b[1m0s\u001b[0m 26ms/step\n",
            "Image: Corn_Blight (466).JPG | Predicted class: blight | Confidence: 0.85\n",
            "Predicting for image: /content/drive/MyDrive/Colab_Notebooks/dataset/test/blight/Corn_Blight (472).JPG\n",
            "\u001b[1m1/1\u001b[0m \u001b[32m━━━━━━━━━━━━━━━━━━━━\u001b[0m\u001b[37m\u001b[0m \u001b[1m0s\u001b[0m 23ms/step\n",
            "Image: Corn_Blight (472).JPG | Predicted class: blight | Confidence: 0.88\n",
            "Predicting for image: /content/drive/MyDrive/Colab_Notebooks/dataset/test/common_rust/Corn_Common_Rust (93).JPG\n",
            "\u001b[1m1/1\u001b[0m \u001b[32m━━━━━━━━━━━━━━━━━━━━\u001b[0m\u001b[37m\u001b[0m \u001b[1m0s\u001b[0m 27ms/step\n",
            "Image: Corn_Common_Rust (93).JPG | Predicted class: common_rust | Confidence: 1.00\n",
            "Predicting for image: /content/drive/MyDrive/Colab_Notebooks/dataset/test/common_rust/Corn_Common_Rust (78).JPG\n",
            "\u001b[1m1/1\u001b[0m \u001b[32m━━━━━━━━━━━━━━━━━━━━\u001b[0m\u001b[37m\u001b[0m \u001b[1m0s\u001b[0m 26ms/step\n",
            "Image: Corn_Common_Rust (78).JPG | Predicted class: common_rust | Confidence: 1.00\n",
            "Predicting for image: /content/drive/MyDrive/Colab_Notebooks/dataset/test/common_rust/Corn_Common_Rust (98).JPG\n",
            "\u001b[1m1/1\u001b[0m \u001b[32m━━━━━━━━━━━━━━━━━━━━\u001b[0m\u001b[37m\u001b[0m \u001b[1m0s\u001b[0m 30ms/step\n",
            "Image: Corn_Common_Rust (98).JPG | Predicted class: common_rust | Confidence: 1.00\n",
            "Predicting for image: /content/drive/MyDrive/Colab_Notebooks/dataset/test/common_rust/Corn_Common_Rust (81).JPG\n",
            "\u001b[1m1/1\u001b[0m \u001b[32m━━━━━━━━━━━━━━━━━━━━\u001b[0m\u001b[37m\u001b[0m \u001b[1m0s\u001b[0m 35ms/step\n",
            "Image: Corn_Common_Rust (81).JPG | Predicted class: common_rust | Confidence: 1.00\n",
            "Predicting for image: /content/drive/MyDrive/Colab_Notebooks/dataset/test/common_rust/Corn_Common_Rust (94).JPG\n",
            "\u001b[1m1/1\u001b[0m \u001b[32m━━━━━━━━━━━━━━━━━━━━\u001b[0m\u001b[37m\u001b[0m \u001b[1m0s\u001b[0m 39ms/step\n",
            "Image: Corn_Common_Rust (94).JPG | Predicted class: common_rust | Confidence: 1.00\n",
            "Predicting for image: /content/drive/MyDrive/Colab_Notebooks/dataset/test/common_rust/Corn_Common_Rust (87).JPG\n",
            "\u001b[1m1/1\u001b[0m \u001b[32m━━━━━━━━━━━━━━━━━━━━\u001b[0m\u001b[37m\u001b[0m \u001b[1m0s\u001b[0m 48ms/step\n",
            "Image: Corn_Common_Rust (87).JPG | Predicted class: common_rust | Confidence: 0.86\n",
            "Predicting for image: /content/drive/MyDrive/Colab_Notebooks/dataset/test/common_rust/Corn_Common_Rust (75).JPG\n",
            "\u001b[1m1/1\u001b[0m \u001b[32m━━━━━━━━━━━━━━━━━━━━\u001b[0m\u001b[37m\u001b[0m \u001b[1m0s\u001b[0m 38ms/step\n",
            "Image: Corn_Common_Rust (75).JPG | Predicted class: common_rust | Confidence: 1.00\n",
            "Predicting for image: /content/drive/MyDrive/Colab_Notebooks/dataset/test/common_rust/Corn_Common_Rust (79).JPG\n",
            "\u001b[1m1/1\u001b[0m \u001b[32m━━━━━━━━━━━━━━━━━━━━\u001b[0m\u001b[37m\u001b[0m \u001b[1m0s\u001b[0m 34ms/step\n",
            "Image: Corn_Common_Rust (79).JPG | Predicted class: common_rust | Confidence: 1.00\n",
            "Predicting for image: /content/drive/MyDrive/Colab_Notebooks/dataset/test/common_rust/Corn_Common_Rust (99).JPG\n",
            "\u001b[1m1/1\u001b[0m \u001b[32m━━━━━━━━━━━━━━━━━━━━\u001b[0m\u001b[37m\u001b[0m \u001b[1m0s\u001b[0m 31ms/step\n",
            "Image: Corn_Common_Rust (99).JPG | Predicted class: common_rust | Confidence: 1.00\n",
            "Predicting for image: /content/drive/MyDrive/Colab_Notebooks/dataset/test/common_rust/Corn_Common_Rust (82).JPG\n",
            "\u001b[1m1/1\u001b[0m \u001b[32m━━━━━━━━━━━━━━━━━━━━\u001b[0m\u001b[37m\u001b[0m \u001b[1m0s\u001b[0m 29ms/step\n",
            "Image: Corn_Common_Rust (82).JPG | Predicted class: common_rust | Confidence: 1.00\n",
            "Predicting for image: /content/drive/MyDrive/Colab_Notebooks/dataset/test/common_rust/Corn_Common_Rust (92).JPG\n",
            "\u001b[1m1/1\u001b[0m \u001b[32m━━━━━━━━━━━━━━━━━━━━\u001b[0m\u001b[37m\u001b[0m \u001b[1m0s\u001b[0m 32ms/step\n",
            "Image: Corn_Common_Rust (92).JPG | Predicted class: common_rust | Confidence: 1.00\n",
            "Predicting for image: /content/drive/MyDrive/Colab_Notebooks/dataset/test/common_rust/Corn_Common_Rust (91).JPG\n",
            "\u001b[1m1/1\u001b[0m \u001b[32m━━━━━━━━━━━━━━━━━━━━\u001b[0m\u001b[37m\u001b[0m \u001b[1m0s\u001b[0m 30ms/step\n",
            "Image: Corn_Common_Rust (91).JPG | Predicted class: common_rust | Confidence: 1.00\n",
            "Predicting for image: /content/drive/MyDrive/Colab_Notebooks/dataset/test/common_rust/Corn_Common_Rust (83).JPG\n",
            "\u001b[1m1/1\u001b[0m \u001b[32m━━━━━━━━━━━━━━━━━━━━\u001b[0m\u001b[37m\u001b[0m \u001b[1m0s\u001b[0m 40ms/step\n",
            "Image: Corn_Common_Rust (83).JPG | Predicted class: common_rust | Confidence: 1.00\n",
            "Predicting for image: /content/drive/MyDrive/Colab_Notebooks/dataset/test/common_rust/Corn_Common_Rust (85).JPG\n",
            "\u001b[1m1/1\u001b[0m \u001b[32m━━━━━━━━━━━━━━━━━━━━\u001b[0m\u001b[37m\u001b[0m \u001b[1m0s\u001b[0m 25ms/step\n",
            "Image: Corn_Common_Rust (85).JPG | Predicted class: common_rust | Confidence: 1.00\n",
            "Predicting for image: /content/drive/MyDrive/Colab_Notebooks/dataset/test/common_rust/Corn_Common_Rust (74).JPG\n",
            "\u001b[1m1/1\u001b[0m \u001b[32m━━━━━━━━━━━━━━━━━━━━\u001b[0m\u001b[37m\u001b[0m \u001b[1m0s\u001b[0m 26ms/step\n",
            "Image: Corn_Common_Rust (74).JPG | Predicted class: common_rust | Confidence: 1.00\n",
            "Predicting for image: /content/drive/MyDrive/Colab_Notebooks/dataset/test/common_rust/Corn_Common_Rust (86).JPG\n",
            "\u001b[1m1/1\u001b[0m \u001b[32m━━━━━━━━━━━━━━━━━━━━\u001b[0m\u001b[37m\u001b[0m \u001b[1m0s\u001b[0m 25ms/step\n",
            "Image: Corn_Common_Rust (86).JPG | Predicted class: common_rust | Confidence: 1.00\n",
            "Predicting for image: /content/drive/MyDrive/Colab_Notebooks/dataset/test/common_rust/Corn_Common_Rust (80).JPG\n",
            "\u001b[1m1/1\u001b[0m \u001b[32m━━━━━━━━━━━━━━━━━━━━\u001b[0m\u001b[37m\u001b[0m \u001b[1m0s\u001b[0m 27ms/step\n",
            "Image: Corn_Common_Rust (80).JPG | Predicted class: common_rust | Confidence: 0.98\n",
            "Predicting for image: /content/drive/MyDrive/Colab_Notebooks/dataset/test/common_rust/Corn_Common_Rust (89).JPG\n",
            "\u001b[1m1/1\u001b[0m \u001b[32m━━━━━━━━━━━━━━━━━━━━\u001b[0m\u001b[37m\u001b[0m \u001b[1m0s\u001b[0m 25ms/step\n",
            "Image: Corn_Common_Rust (89).JPG | Predicted class: common_rust | Confidence: 1.00\n",
            "Predicting for image: /content/drive/MyDrive/Colab_Notebooks/dataset/test/common_rust/Corn_Common_Rust (77).JPG\n",
            "\u001b[1m1/1\u001b[0m \u001b[32m━━━━━━━━━━━━━━━━━━━━\u001b[0m\u001b[37m\u001b[0m \u001b[1m0s\u001b[0m 25ms/step\n",
            "Image: Corn_Common_Rust (77).JPG | Predicted class: common_rust | Confidence: 1.00\n",
            "Predicting for image: /content/drive/MyDrive/Colab_Notebooks/dataset/test/common_rust/Corn_Common_Rust (95).JPG\n",
            "\u001b[1m1/1\u001b[0m \u001b[32m━━━━━━━━━━━━━━━━━━━━\u001b[0m\u001b[37m\u001b[0m \u001b[1m0s\u001b[0m 30ms/step\n",
            "Image: Corn_Common_Rust (95).JPG | Predicted class: common_rust | Confidence: 1.00\n",
            "Predicting for image: /content/drive/MyDrive/Colab_Notebooks/dataset/test/common_rust/Corn_Common_Rust (73).JPG\n",
            "\u001b[1m1/1\u001b[0m \u001b[32m━━━━━━━━━━━━━━━━━━━━\u001b[0m\u001b[37m\u001b[0m \u001b[1m0s\u001b[0m 44ms/step\n",
            "Image: Corn_Common_Rust (73).JPG | Predicted class: common_rust | Confidence: 1.00\n",
            "Predicting for image: /content/drive/MyDrive/Colab_Notebooks/dataset/test/common_rust/Corn_Common_Rust (97).JPG\n",
            "\u001b[1m1/1\u001b[0m \u001b[32m━━━━━━━━━━━━━━━━━━━━\u001b[0m\u001b[37m\u001b[0m \u001b[1m0s\u001b[0m 37ms/step\n",
            "Image: Corn_Common_Rust (97).JPG | Predicted class: common_rust | Confidence: 1.00\n",
            "Predicting for image: /content/drive/MyDrive/Colab_Notebooks/dataset/test/common_rust/Corn_Common_Rust (90).JPG\n",
            "\u001b[1m1/1\u001b[0m \u001b[32m━━━━━━━━━━━━━━━━━━━━\u001b[0m\u001b[37m\u001b[0m \u001b[1m0s\u001b[0m 28ms/step\n",
            "Image: Corn_Common_Rust (90).JPG | Predicted class: common_rust | Confidence: 0.99\n",
            "Predicting for image: /content/drive/MyDrive/Colab_Notebooks/dataset/test/common_rust/Corn_Common_Rust (96).JPG\n",
            "\u001b[1m1/1\u001b[0m \u001b[32m━━━━━━━━━━━━━━━━━━━━\u001b[0m\u001b[37m\u001b[0m \u001b[1m0s\u001b[0m 40ms/step\n",
            "Image: Corn_Common_Rust (96).JPG | Predicted class: common_rust | Confidence: 1.00\n",
            "Predicting for image: /content/drive/MyDrive/Colab_Notebooks/dataset/test/common_rust/Corn_Common_Rust (76).JPG\n",
            "\u001b[1m1/1\u001b[0m \u001b[32m━━━━━━━━━━━━━━━━━━━━\u001b[0m\u001b[37m\u001b[0m \u001b[1m0s\u001b[0m 32ms/step\n",
            "Image: Corn_Common_Rust (76).JPG | Predicted class: common_rust | Confidence: 1.00\n",
            "Predicting for image: /content/drive/MyDrive/Colab_Notebooks/dataset/test/common_rust/Corn_Common_Rust (88).JPG\n",
            "\u001b[1m1/1\u001b[0m \u001b[32m━━━━━━━━━━━━━━━━━━━━\u001b[0m\u001b[37m\u001b[0m \u001b[1m0s\u001b[0m 32ms/step\n",
            "Image: Corn_Common_Rust (88).JPG | Predicted class: common_rust | Confidence: 1.00\n",
            "Predicting for image: /content/drive/MyDrive/Colab_Notebooks/dataset/test/common_rust/Corn_Common_Rust (84).JPG\n",
            "\u001b[1m1/1\u001b[0m \u001b[32m━━━━━━━━━━━━━━━━━━━━\u001b[0m\u001b[37m\u001b[0m \u001b[1m0s\u001b[0m 30ms/step\n",
            "Image: Corn_Common_Rust (84).JPG | Predicted class: common_rust | Confidence: 1.00\n",
            "Predicting for image: /content/drive/MyDrive/Colab_Notebooks/dataset/test/gray_leaf_spot/Corn_Gray_Spot (177).JPG\n",
            "\u001b[1m1/1\u001b[0m \u001b[32m━━━━━━━━━━━━━━━━━━━━\u001b[0m\u001b[37m\u001b[0m \u001b[1m0s\u001b[0m 30ms/step\n",
            "Image: Corn_Gray_Spot (177).JPG | Predicted class: blight | Confidence: 0.56\n",
            "Predicting for image: /content/drive/MyDrive/Colab_Notebooks/dataset/test/gray_leaf_spot/Corn_Gray_Spot (188).JPG\n",
            "\u001b[1m1/1\u001b[0m \u001b[32m━━━━━━━━━━━━━━━━━━━━\u001b[0m\u001b[37m\u001b[0m \u001b[1m0s\u001b[0m 33ms/step\n",
            "Image: Corn_Gray_Spot (188).JPG | Predicted class: gray_leaf_spot | Confidence: 0.80\n",
            "Predicting for image: /content/drive/MyDrive/Colab_Notebooks/dataset/test/gray_leaf_spot/Corn_Gray_Spot (176).JPG\n",
            "\u001b[1m1/1\u001b[0m \u001b[32m━━━━━━━━━━━━━━━━━━━━\u001b[0m\u001b[37m\u001b[0m \u001b[1m0s\u001b[0m 42ms/step\n",
            "Image: Corn_Gray_Spot (176).JPG | Predicted class: gray_leaf_spot | Confidence: 0.87\n",
            "Predicting for image: /content/drive/MyDrive/Colab_Notebooks/dataset/test/gray_leaf_spot/Corn_Gray_Spot (186).JPG\n",
            "\u001b[1m1/1\u001b[0m \u001b[32m━━━━━━━━━━━━━━━━━━━━\u001b[0m\u001b[37m\u001b[0m \u001b[1m0s\u001b[0m 43ms/step\n",
            "Image: Corn_Gray_Spot (186).JPG | Predicted class: gray_leaf_spot | Confidence: 0.88\n",
            "Predicting for image: /content/drive/MyDrive/Colab_Notebooks/dataset/test/gray_leaf_spot/Corn_Gray_Spot (175).jpg\n",
            "\u001b[1m1/1\u001b[0m \u001b[32m━━━━━━━━━━━━━━━━━━━━\u001b[0m\u001b[37m\u001b[0m \u001b[1m0s\u001b[0m 33ms/step\n",
            "Image: Corn_Gray_Spot (175).jpg | Predicted class: gray_leaf_spot | Confidence: 0.55\n",
            "Predicting for image: /content/drive/MyDrive/Colab_Notebooks/dataset/test/gray_leaf_spot/Corn_Gray_Spot (185).JPG\n",
            "\u001b[1m1/1\u001b[0m \u001b[32m━━━━━━━━━━━━━━━━━━━━\u001b[0m\u001b[37m\u001b[0m \u001b[1m0s\u001b[0m 17ms/step\n",
            "Image: Corn_Gray_Spot (185).JPG | Predicted class: gray_leaf_spot | Confidence: 0.84\n",
            "Predicting for image: /content/drive/MyDrive/Colab_Notebooks/dataset/test/gray_leaf_spot/Corn_Gray_Spot (172).JPG\n",
            "\u001b[1m1/1\u001b[0m \u001b[32m━━━━━━━━━━━━━━━━━━━━\u001b[0m\u001b[37m\u001b[0m \u001b[1m0s\u001b[0m 17ms/step\n",
            "Image: Corn_Gray_Spot (172).JPG | Predicted class: blight | Confidence: 0.48\n",
            "Predicting for image: /content/drive/MyDrive/Colab_Notebooks/dataset/test/gray_leaf_spot/Corn_Gray_Spot (182).JPG\n",
            "\u001b[1m1/1\u001b[0m \u001b[32m━━━━━━━━━━━━━━━━━━━━\u001b[0m\u001b[37m\u001b[0m \u001b[1m0s\u001b[0m 17ms/step\n",
            "Image: Corn_Gray_Spot (182).JPG | Predicted class: gray_leaf_spot | Confidence: 0.96\n",
            "Predicting for image: /content/drive/MyDrive/Colab_Notebooks/dataset/test/gray_leaf_spot/Corn_Gray_Spot (173).JPG\n",
            "\u001b[1m1/1\u001b[0m \u001b[32m━━━━━━━━━━━━━━━━━━━━\u001b[0m\u001b[37m\u001b[0m \u001b[1m0s\u001b[0m 17ms/step\n",
            "Image: Corn_Gray_Spot (173).JPG | Predicted class: blight | Confidence: 0.65\n",
            "Predicting for image: /content/drive/MyDrive/Colab_Notebooks/dataset/test/gray_leaf_spot/Corn_Gray_Spot (174).jpg\n",
            "\u001b[1m1/1\u001b[0m \u001b[32m━━━━━━━━━━━━━━━━━━━━\u001b[0m\u001b[37m\u001b[0m \u001b[1m0s\u001b[0m 19ms/step\n",
            "Image: Corn_Gray_Spot (174).jpg | Predicted class: gray_leaf_spot | Confidence: 0.94\n",
            "Predicting for image: /content/drive/MyDrive/Colab_Notebooks/dataset/test/gray_leaf_spot/Corn_Gray_Spot (180).JPG\n",
            "\u001b[1m1/1\u001b[0m \u001b[32m━━━━━━━━━━━━━━━━━━━━\u001b[0m\u001b[37m\u001b[0m \u001b[1m0s\u001b[0m 18ms/step\n",
            "Image: Corn_Gray_Spot (180).JPG | Predicted class: blight | Confidence: 0.61\n",
            "Predicting for image: /content/drive/MyDrive/Colab_Notebooks/dataset/test/gray_leaf_spot/Corn_Gray_Spot (181).JPG\n",
            "\u001b[1m1/1\u001b[0m \u001b[32m━━━━━━━━━━━━━━━━━━━━\u001b[0m\u001b[37m\u001b[0m \u001b[1m0s\u001b[0m 19ms/step\n",
            "Image: Corn_Gray_Spot (181).JPG | Predicted class: gray_leaf_spot | Confidence: 0.56\n",
            "Predicting for image: /content/drive/MyDrive/Colab_Notebooks/dataset/test/gray_leaf_spot/Corn_Gray_Spot (183).JPG\n",
            "\u001b[1m1/1\u001b[0m \u001b[32m━━━━━━━━━━━━━━━━━━━━\u001b[0m\u001b[37m\u001b[0m \u001b[1m0s\u001b[0m 20ms/step\n",
            "Image: Corn_Gray_Spot (183).JPG | Predicted class: gray_leaf_spot | Confidence: 0.52\n",
            "Predicting for image: /content/drive/MyDrive/Colab_Notebooks/dataset/test/gray_leaf_spot/Corn_Gray_Spot (187).JPG\n",
            "\u001b[1m1/1\u001b[0m \u001b[32m━━━━━━━━━━━━━━━━━━━━\u001b[0m\u001b[37m\u001b[0m \u001b[1m0s\u001b[0m 21ms/step\n",
            "Image: Corn_Gray_Spot (187).JPG | Predicted class: gray_leaf_spot | Confidence: 0.62\n",
            "Predicting for image: /content/drive/MyDrive/Colab_Notebooks/dataset/test/gray_leaf_spot/Corn_Gray_Spot (184).JPG\n",
            "\u001b[1m1/1\u001b[0m \u001b[32m━━━━━━━━━━━━━━━━━━━━\u001b[0m\u001b[37m\u001b[0m \u001b[1m0s\u001b[0m 30ms/step\n",
            "Image: Corn_Gray_Spot (184).JPG | Predicted class: blight | Confidence: 0.71\n",
            "Predicting for image: /content/drive/MyDrive/Colab_Notebooks/dataset/test/gray_leaf_spot/Corn_Gray_Spot (179).JPG\n",
            "\u001b[1m1/1\u001b[0m \u001b[32m━━━━━━━━━━━━━━━━━━━━\u001b[0m\u001b[37m\u001b[0m \u001b[1m0s\u001b[0m 22ms/step\n",
            "Image: Corn_Gray_Spot (179).JPG | Predicted class: gray_leaf_spot | Confidence: 0.70\n",
            "Predicting for image: /content/drive/MyDrive/Colab_Notebooks/dataset/test/gray_leaf_spot/Corn_Gray_Spot (189).JPG\n",
            "\u001b[1m1/1\u001b[0m \u001b[32m━━━━━━━━━━━━━━━━━━━━\u001b[0m\u001b[37m\u001b[0m \u001b[1m0s\u001b[0m 22ms/step\n",
            "Image: Corn_Gray_Spot (189).JPG | Predicted class: gray_leaf_spot | Confidence: 0.69\n",
            "Predicting for image: /content/drive/MyDrive/Colab_Notebooks/dataset/test/gray_leaf_spot/Corn_Gray_Spot (178).JPG\n",
            "\u001b[1m1/1\u001b[0m \u001b[32m━━━━━━━━━━━━━━━━━━━━\u001b[0m\u001b[37m\u001b[0m \u001b[1m0s\u001b[0m 17ms/step\n",
            "Image: Corn_Gray_Spot (178).JPG | Predicted class: gray_leaf_spot | Confidence: 0.89\n"
          ]
        }
      ]
    },
    {
      "cell_type": "markdown",
      "source": [
        "# Testing manual"
      ],
      "metadata": {
        "id": "psyWJXAok7vh"
      }
    },
    {
      "cell_type": "code",
      "source": [
        "from tensorflow.keras.preprocessing.image import load_img, img_to_array\n",
        "import numpy as np\n",
        "import tensorflow as tf\n",
        "from google.colab import files\n",
        "from IPython.display import display, Image\n",
        "\n",
        "# Load model terbaik\n",
        "model = tf.keras.models.load_model('/content/drive/MyDrive/Colab_Notebooks/best_corn_disease_model.keras')\n",
        "class_labels = ['blight', 'common_rust', 'gray_leaf_spot', 'healthy']\n",
        "\n",
        "# Fungsi untuk memprediksi gambar\n",
        "def predict_image(image_path):\n",
        "    img = load_img(image_path, target_size=(224, 224))\n",
        "    img_array = img_to_array(img)\n",
        "    img_array = np.expand_dims(img_array, axis=0)\n",
        "    img_array /= 255.0\n",
        "\n",
        "    prediction = model.predict(img_array)\n",
        "    predicted_class = np.argmax(prediction, axis=1)[0]\n",
        "    confidence = prediction[0][predicted_class]\n",
        "    return class_labels[predicted_class], confidence\n",
        "\n",
        "uploaded = files.upload()\n",
        "\n",
        "for file_name in uploaded.keys():\n",
        "    print(f\"Predicting for image: {file_name}\")\n",
        "    predicted_class, confidence = predict_image(file_name)\n",
        "    print(f\"Predicted class: {predicted_class}, Confidence: {confidence:.2f}\")\n",
        "    display(Image(filename=file_name))"
      ],
      "metadata": {
        "id": "iQLDkJ-6k7QO"
      },
      "execution_count": null,
      "outputs": []
    },
    {
      "cell_type": "markdown",
      "source": [
        "# Save model to .h5"
      ],
      "metadata": {
        "id": "VDxNJJuhnDus"
      }
    },
    {
      "cell_type": "code",
      "source": [
        "import tensorflow as tf\n",
        "\n",
        "# Muat model dengan format .keras\n",
        "model = tf.keras.models.load_model('/content/drive/MyDrive/Colab_Notebooks/best_corn_disease_model.keras')\n",
        "\n",
        "# Simpan model dalam format .h5\n",
        "model.save('/content/drive/MyDrive/Colab_Notebooks/best_corn_disease_model.h5', save_format='h5')\n",
        "\n",
        "print(\"Model telah disimpan dalam format .h5.\")"
      ],
      "metadata": {
        "colab": {
          "base_uri": "https://localhost:8080/"
        },
        "id": "B4qZEJt5nDgW",
        "outputId": "e475207f-1bba-42c9-afea-293f02b54a82"
      },
      "execution_count": 26,
      "outputs": [
        {
          "output_type": "stream",
          "name": "stderr",
          "text": [
            "WARNING:absl:The `save_format` argument is deprecated in Keras 3. We recommend removing this argument as it can be inferred from the file path. Received: save_format=h5\n",
            "WARNING:absl:You are saving your model as an HDF5 file via `model.save()` or `keras.saving.save_model(model)`. This file format is considered legacy. We recommend using instead the native Keras format, e.g. `model.save('my_model.keras')` or `keras.saving.save_model(model, 'my_model.keras')`. \n"
          ]
        },
        {
          "output_type": "stream",
          "name": "stdout",
          "text": [
            "Model telah disimpan dalam format .h5.\n"
          ]
        }
      ]
    },
    {
      "cell_type": "markdown",
      "source": [
        "# Save model to tflite"
      ],
      "metadata": {
        "id": "zIAgYuPgnv3y"
      }
    },
    {
      "cell_type": "code",
      "source": [
        "import tensorflow as tf\n",
        "\n",
        "# Muat model dengan format .keras\n",
        "model = tf.keras.models.load_model('/content/drive/MyDrive/Colab_Notebooks/best_corn_disease_model.keras')\n",
        "\n",
        "# Konversi model ke TensorFlow Lite\n",
        "converter = tf.lite.TFLiteConverter.from_keras_model(model)\n",
        "tflite_model = converter.convert()\n",
        "\n",
        "# Simpan model TensorFlow Lite ke file .tflite\n",
        "with open('/content/drive/MyDrive/Colab_Notebooks/best_corn_disease_model.tflite', 'wb') as f:\n",
        "    f.write(tflite_model)\n",
        "\n",
        "print(\"Model telah disimpan dalam format .tflite.\")"
      ],
      "metadata": {
        "colab": {
          "base_uri": "https://localhost:8080/"
        },
        "id": "lki6DlEvny3m",
        "outputId": "9210691e-f813-42d8-aefe-4f39e4b69d84"
      },
      "execution_count": 27,
      "outputs": [
        {
          "output_type": "stream",
          "name": "stdout",
          "text": [
            "Saved artifact at '/tmp/tmpl7vhi860'. The following endpoints are available:\n",
            "\n",
            "* Endpoint 'serve'\n",
            "  args_0 (POSITIONAL_ONLY): TensorSpec(shape=(None, 224, 224, 3), dtype=tf.float32, name='input_layer')\n",
            "Output Type:\n",
            "  TensorSpec(shape=(None, 4), dtype=tf.float32, name=None)\n",
            "Captures:\n",
            "  133417278164128: TensorSpec(shape=(), dtype=tf.resource, name=None)\n",
            "  133414501113120: TensorSpec(shape=(), dtype=tf.resource, name=None)\n",
            "  133414501106080: TensorSpec(shape=(), dtype=tf.resource, name=None)\n",
            "  133414501115760: TensorSpec(shape=(), dtype=tf.resource, name=None)\n",
            "  133414501111712: TensorSpec(shape=(), dtype=tf.resource, name=None)\n",
            "  133414501117696: TensorSpec(shape=(), dtype=tf.resource, name=None)\n",
            "  133414501116288: TensorSpec(shape=(), dtype=tf.resource, name=None)\n",
            "  133414501119808: TensorSpec(shape=(), dtype=tf.resource, name=None)\n",
            "  133414501106608: TensorSpec(shape=(), dtype=tf.resource, name=None)\n",
            "  133414501106432: TensorSpec(shape=(), dtype=tf.resource, name=None)\n",
            "  133414501113648: TensorSpec(shape=(), dtype=tf.resource, name=None)\n",
            "  133414501118928: TensorSpec(shape=(), dtype=tf.resource, name=None)\n",
            "  133414501874528: TensorSpec(shape=(), dtype=tf.resource, name=None)\n",
            "  133414501871360: TensorSpec(shape=(), dtype=tf.resource, name=None)\n",
            "  133414501860096: TensorSpec(shape=(), dtype=tf.resource, name=None)\n",
            "  133414501867840: TensorSpec(shape=(), dtype=tf.resource, name=None)\n",
            "  133414501874176: TensorSpec(shape=(), dtype=tf.resource, name=None)\n",
            "  133414501869952: TensorSpec(shape=(), dtype=tf.resource, name=None)\n",
            "  133414501860800: TensorSpec(shape=(), dtype=tf.resource, name=None)\n",
            "  133414501861152: TensorSpec(shape=(), dtype=tf.resource, name=None)\n",
            "  133412591017952: TensorSpec(shape=(), dtype=tf.resource, name=None)\n",
            "  133414501866080: TensorSpec(shape=(), dtype=tf.resource, name=None)\n",
            "  133414501859744: TensorSpec(shape=(), dtype=tf.resource, name=None)\n",
            "  133414305421920: TensorSpec(shape=(), dtype=tf.resource, name=None)\n",
            "  133414305573952: TensorSpec(shape=(), dtype=tf.resource, name=None)\n",
            "  133414305570960: TensorSpec(shape=(), dtype=tf.resource, name=None)\n",
            "  133414369587824: TensorSpec(shape=(), dtype=tf.resource, name=None)\n",
            "  133414369589232: TensorSpec(shape=(), dtype=tf.resource, name=None)\n",
            "  133414369581312: TensorSpec(shape=(), dtype=tf.resource, name=None)\n",
            "  133414369581840: TensorSpec(shape=(), dtype=tf.resource, name=None)\n",
            "Model telah disimpan dalam format .tflite.\n"
          ]
        }
      ]
    },
    {
      "cell_type": "markdown",
      "source": [
        "# Save model to tfjs"
      ],
      "metadata": {
        "id": "x0Usn4HCoO2Y"
      }
    },
    {
      "cell_type": "code",
      "source": [
        "pip install tensorflowjs"
      ],
      "metadata": {
        "colab": {
          "base_uri": "https://localhost:8080/",
          "height": 1000
        },
        "id": "g9pIXXm4oRjL",
        "outputId": "bcfcc480-fbf9-46f4-f590-d8acd80bb061"
      },
      "execution_count": 28,
      "outputs": [
        {
          "output_type": "stream",
          "name": "stdout",
          "text": [
            "Collecting tensorflowjs\n",
            "  Downloading tensorflowjs-4.22.0-py3-none-any.whl.metadata (3.2 kB)\n",
            "Requirement already satisfied: flax>=0.7.2 in /usr/local/lib/python3.10/dist-packages (from tensorflowjs) (0.8.5)\n",
            "Requirement already satisfied: importlib_resources>=5.9.0 in /usr/local/lib/python3.10/dist-packages (from tensorflowjs) (6.4.5)\n",
            "Requirement already satisfied: jax>=0.4.13 in /usr/local/lib/python3.10/dist-packages (from tensorflowjs) (0.4.33)\n",
            "Requirement already satisfied: jaxlib>=0.4.13 in /usr/local/lib/python3.10/dist-packages (from tensorflowjs) (0.4.33)\n",
            "Requirement already satisfied: tensorflow<3,>=2.13.0 in /usr/local/lib/python3.10/dist-packages (from tensorflowjs) (2.17.0)\n",
            "Requirement already satisfied: tf-keras>=2.13.0 in /usr/local/lib/python3.10/dist-packages (from tensorflowjs) (2.17.0)\n",
            "Collecting tensorflow-decision-forests>=1.5.0 (from tensorflowjs)\n",
            "  Downloading tensorflow_decision_forests-1.11.0-cp310-cp310-manylinux_2_17_x86_64.manylinux2014_x86_64.whl.metadata (6.0 kB)\n",
            "Requirement already satisfied: six<2,>=1.16.0 in /usr/local/lib/python3.10/dist-packages (from tensorflowjs) (1.16.0)\n",
            "Requirement already satisfied: tensorflow-hub>=0.16.1 in /usr/local/lib/python3.10/dist-packages (from tensorflowjs) (0.16.1)\n",
            "Collecting packaging~=23.1 (from tensorflowjs)\n",
            "  Downloading packaging-23.2-py3-none-any.whl.metadata (3.2 kB)\n",
            "Requirement already satisfied: numpy>=1.22 in /usr/local/lib/python3.10/dist-packages (from flax>=0.7.2->tensorflowjs) (1.26.4)\n",
            "Requirement already satisfied: msgpack in /usr/local/lib/python3.10/dist-packages (from flax>=0.7.2->tensorflowjs) (1.1.0)\n",
            "Requirement already satisfied: optax in /usr/local/lib/python3.10/dist-packages (from flax>=0.7.2->tensorflowjs) (0.2.3)\n",
            "Requirement already satisfied: orbax-checkpoint in /usr/local/lib/python3.10/dist-packages (from flax>=0.7.2->tensorflowjs) (0.6.4)\n",
            "Requirement already satisfied: tensorstore in /usr/local/lib/python3.10/dist-packages (from flax>=0.7.2->tensorflowjs) (0.1.67)\n",
            "Requirement already satisfied: rich>=11.1 in /usr/local/lib/python3.10/dist-packages (from flax>=0.7.2->tensorflowjs) (13.9.3)\n",
            "Requirement already satisfied: typing-extensions>=4.2 in /usr/local/lib/python3.10/dist-packages (from flax>=0.7.2->tensorflowjs) (4.12.2)\n",
            "Requirement already satisfied: PyYAML>=5.4.1 in /usr/local/lib/python3.10/dist-packages (from flax>=0.7.2->tensorflowjs) (6.0.2)\n",
            "Requirement already satisfied: ml-dtypes>=0.2.0 in /usr/local/lib/python3.10/dist-packages (from jax>=0.4.13->tensorflowjs) (0.4.1)\n",
            "Requirement already satisfied: opt-einsum in /usr/local/lib/python3.10/dist-packages (from jax>=0.4.13->tensorflowjs) (3.4.0)\n",
            "Requirement already satisfied: scipy>=1.10 in /usr/local/lib/python3.10/dist-packages (from jax>=0.4.13->tensorflowjs) (1.13.1)\n",
            "Requirement already satisfied: absl-py>=1.0.0 in /usr/local/lib/python3.10/dist-packages (from tensorflow<3,>=2.13.0->tensorflowjs) (1.4.0)\n",
            "Requirement already satisfied: astunparse>=1.6.0 in /usr/local/lib/python3.10/dist-packages (from tensorflow<3,>=2.13.0->tensorflowjs) (1.6.3)\n",
            "Requirement already satisfied: flatbuffers>=24.3.25 in /usr/local/lib/python3.10/dist-packages (from tensorflow<3,>=2.13.0->tensorflowjs) (24.3.25)\n",
            "Requirement already satisfied: gast!=0.5.0,!=0.5.1,!=0.5.2,>=0.2.1 in /usr/local/lib/python3.10/dist-packages (from tensorflow<3,>=2.13.0->tensorflowjs) (0.6.0)\n",
            "Requirement already satisfied: google-pasta>=0.1.1 in /usr/local/lib/python3.10/dist-packages (from tensorflow<3,>=2.13.0->tensorflowjs) (0.2.0)\n",
            "Requirement already satisfied: h5py>=3.10.0 in /usr/local/lib/python3.10/dist-packages (from tensorflow<3,>=2.13.0->tensorflowjs) (3.12.1)\n",
            "Requirement already satisfied: libclang>=13.0.0 in /usr/local/lib/python3.10/dist-packages (from tensorflow<3,>=2.13.0->tensorflowjs) (18.1.1)\n",
            "Requirement already satisfied: protobuf!=4.21.0,!=4.21.1,!=4.21.2,!=4.21.3,!=4.21.4,!=4.21.5,<5.0.0dev,>=3.20.3 in /usr/local/lib/python3.10/dist-packages (from tensorflow<3,>=2.13.0->tensorflowjs) (3.20.3)\n",
            "Requirement already satisfied: requests<3,>=2.21.0 in /usr/local/lib/python3.10/dist-packages (from tensorflow<3,>=2.13.0->tensorflowjs) (2.32.3)\n",
            "Requirement already satisfied: setuptools in /usr/local/lib/python3.10/dist-packages (from tensorflow<3,>=2.13.0->tensorflowjs) (75.1.0)\n",
            "Requirement already satisfied: termcolor>=1.1.0 in /usr/local/lib/python3.10/dist-packages (from tensorflow<3,>=2.13.0->tensorflowjs) (2.5.0)\n",
            "Requirement already satisfied: wrapt>=1.11.0 in /usr/local/lib/python3.10/dist-packages (from tensorflow<3,>=2.13.0->tensorflowjs) (1.16.0)\n",
            "Requirement already satisfied: grpcio<2.0,>=1.24.3 in /usr/local/lib/python3.10/dist-packages (from tensorflow<3,>=2.13.0->tensorflowjs) (1.64.1)\n",
            "Requirement already satisfied: tensorboard<2.18,>=2.17 in /usr/local/lib/python3.10/dist-packages (from tensorflow<3,>=2.13.0->tensorflowjs) (2.17.0)\n",
            "Requirement already satisfied: keras>=3.2.0 in /usr/local/lib/python3.10/dist-packages (from tensorflow<3,>=2.13.0->tensorflowjs) (3.4.1)\n",
            "Requirement already satisfied: tensorflow-io-gcs-filesystem>=0.23.1 in /usr/local/lib/python3.10/dist-packages (from tensorflow<3,>=2.13.0->tensorflowjs) (0.37.1)\n",
            "Requirement already satisfied: pandas in /usr/local/lib/python3.10/dist-packages (from tensorflow-decision-forests>=1.5.0->tensorflowjs) (2.2.2)\n",
            "Collecting tensorflow<3,>=2.13.0 (from tensorflowjs)\n",
            "  Downloading tensorflow-2.18.0-cp310-cp310-manylinux_2_17_x86_64.manylinux2014_x86_64.whl.metadata (4.1 kB)\n",
            "Requirement already satisfied: wheel in /usr/local/lib/python3.10/dist-packages (from tensorflow-decision-forests>=1.5.0->tensorflowjs) (0.44.0)\n",
            "Collecting wurlitzer (from tensorflow-decision-forests>=1.5.0->tensorflowjs)\n",
            "  Downloading wurlitzer-3.1.1-py3-none-any.whl.metadata (2.5 kB)\n",
            "Collecting ydf (from tensorflow-decision-forests>=1.5.0->tensorflowjs)\n",
            "  Downloading ydf-0.8.0-cp310-cp310-manylinux_2_17_x86_64.manylinux2014_x86_64.whl.metadata (3.2 kB)\n",
            "Collecting tensorboard<2.19,>=2.18 (from tensorflow<3,>=2.13.0->tensorflowjs)\n",
            "  Downloading tensorboard-2.18.0-py3-none-any.whl.metadata (1.6 kB)\n",
            "Collecting keras>=3.5.0 (from tensorflow<3,>=2.13.0->tensorflowjs)\n",
            "  Downloading keras-3.6.0-py3-none-any.whl.metadata (5.8 kB)\n",
            "INFO: pip is looking at multiple versions of tf-keras to determine which version is compatible with other requirements. This could take a while.\n",
            "Collecting tf-keras>=2.13.0 (from tensorflowjs)\n",
            "  Downloading tf_keras-2.18.0-py3-none-any.whl.metadata (1.6 kB)\n",
            "Requirement already satisfied: namex in /usr/local/lib/python3.10/dist-packages (from keras>=3.5.0->tensorflow<3,>=2.13.0->tensorflowjs) (0.0.8)\n",
            "Requirement already satisfied: optree in /usr/local/lib/python3.10/dist-packages (from keras>=3.5.0->tensorflow<3,>=2.13.0->tensorflowjs) (0.13.0)\n",
            "Requirement already satisfied: charset-normalizer<4,>=2 in /usr/local/lib/python3.10/dist-packages (from requests<3,>=2.21.0->tensorflow<3,>=2.13.0->tensorflowjs) (3.4.0)\n",
            "Requirement already satisfied: idna<4,>=2.5 in /usr/local/lib/python3.10/dist-packages (from requests<3,>=2.21.0->tensorflow<3,>=2.13.0->tensorflowjs) (3.10)\n",
            "Requirement already satisfied: urllib3<3,>=1.21.1 in /usr/local/lib/python3.10/dist-packages (from requests<3,>=2.21.0->tensorflow<3,>=2.13.0->tensorflowjs) (2.2.3)\n",
            "Requirement already satisfied: certifi>=2017.4.17 in /usr/local/lib/python3.10/dist-packages (from requests<3,>=2.21.0->tensorflow<3,>=2.13.0->tensorflowjs) (2024.8.30)\n",
            "Requirement already satisfied: markdown-it-py>=2.2.0 in /usr/local/lib/python3.10/dist-packages (from rich>=11.1->flax>=0.7.2->tensorflowjs) (3.0.0)\n",
            "Requirement already satisfied: pygments<3.0.0,>=2.13.0 in /usr/local/lib/python3.10/dist-packages (from rich>=11.1->flax>=0.7.2->tensorflowjs) (2.18.0)\n",
            "Requirement already satisfied: markdown>=2.6.8 in /usr/local/lib/python3.10/dist-packages (from tensorboard<2.19,>=2.18->tensorflow<3,>=2.13.0->tensorflowjs) (3.7)\n",
            "Requirement already satisfied: tensorboard-data-server<0.8.0,>=0.7.0 in /usr/local/lib/python3.10/dist-packages (from tensorboard<2.19,>=2.18->tensorflow<3,>=2.13.0->tensorflowjs) (0.7.2)\n",
            "Requirement already satisfied: werkzeug>=1.0.1 in /usr/local/lib/python3.10/dist-packages (from tensorboard<2.19,>=2.18->tensorflow<3,>=2.13.0->tensorflowjs) (3.0.6)\n",
            "Requirement already satisfied: chex>=0.1.86 in /usr/local/lib/python3.10/dist-packages (from optax->flax>=0.7.2->tensorflowjs) (0.1.87)\n",
            "Requirement already satisfied: etils[epy] in /usr/local/lib/python3.10/dist-packages (from optax->flax>=0.7.2->tensorflowjs) (1.10.0)\n",
            "Requirement already satisfied: nest_asyncio in /usr/local/lib/python3.10/dist-packages (from orbax-checkpoint->flax>=0.7.2->tensorflowjs) (1.6.0)\n",
            "Requirement already satisfied: humanize in /usr/local/lib/python3.10/dist-packages (from orbax-checkpoint->flax>=0.7.2->tensorflowjs) (4.11.0)\n",
            "Requirement already satisfied: python-dateutil>=2.8.2 in /usr/local/lib/python3.10/dist-packages (from pandas->tensorflow-decision-forests>=1.5.0->tensorflowjs) (2.8.2)\n",
            "Requirement already satisfied: pytz>=2020.1 in /usr/local/lib/python3.10/dist-packages (from pandas->tensorflow-decision-forests>=1.5.0->tensorflowjs) (2024.2)\n",
            "Requirement already satisfied: tzdata>=2022.7 in /usr/local/lib/python3.10/dist-packages (from pandas->tensorflow-decision-forests>=1.5.0->tensorflowjs) (2024.2)\n",
            "Requirement already satisfied: toolz>=0.9.0 in /usr/local/lib/python3.10/dist-packages (from chex>=0.1.86->optax->flax>=0.7.2->tensorflowjs) (0.12.1)\n",
            "Requirement already satisfied: mdurl~=0.1 in /usr/local/lib/python3.10/dist-packages (from markdown-it-py>=2.2.0->rich>=11.1->flax>=0.7.2->tensorflowjs) (0.1.2)\n",
            "Requirement already satisfied: MarkupSafe>=2.1.1 in /usr/local/lib/python3.10/dist-packages (from werkzeug>=1.0.1->tensorboard<2.19,>=2.18->tensorflow<3,>=2.13.0->tensorflowjs) (3.0.2)\n",
            "Requirement already satisfied: fsspec in /usr/local/lib/python3.10/dist-packages (from etils[epath,epy]->orbax-checkpoint->flax>=0.7.2->tensorflowjs) (2024.10.0)\n",
            "Requirement already satisfied: zipp in /usr/local/lib/python3.10/dist-packages (from etils[epath,epy]->orbax-checkpoint->flax>=0.7.2->tensorflowjs) (3.20.2)\n",
            "Downloading tensorflowjs-4.22.0-py3-none-any.whl (89 kB)\n",
            "\u001b[2K   \u001b[90m━━━━━━━━━━━━━━━━━━━━━━━━━━━━━━━━━━━━━━━━\u001b[0m \u001b[32m89.1/89.1 kB\u001b[0m \u001b[31m5.9 MB/s\u001b[0m eta \u001b[36m0:00:00\u001b[0m\n",
            "\u001b[?25hDownloading packaging-23.2-py3-none-any.whl (53 kB)\n",
            "\u001b[2K   \u001b[90m━━━━━━━━━━━━━━━━━━━━━━━━━━━━━━━━━━━━━━━━\u001b[0m \u001b[32m53.0/53.0 kB\u001b[0m \u001b[31m5.1 MB/s\u001b[0m eta \u001b[36m0:00:00\u001b[0m\n",
            "\u001b[?25hDownloading tensorflow_decision_forests-1.11.0-cp310-cp310-manylinux_2_17_x86_64.manylinux2014_x86_64.whl (15.9 MB)\n",
            "\u001b[2K   \u001b[90m━━━━━━━━━━━━━━━━━━━━━━━━━━━━━━━━━━━━━━━━\u001b[0m \u001b[32m15.9/15.9 MB\u001b[0m \u001b[31m54.7 MB/s\u001b[0m eta \u001b[36m0:00:00\u001b[0m\n",
            "\u001b[?25hDownloading tensorflow-2.18.0-cp310-cp310-manylinux_2_17_x86_64.manylinux2014_x86_64.whl (615.3 MB)\n",
            "\u001b[2K   \u001b[90m━━━━━━━━━━━━━━━━━━━━━━━━━━━━━━━━━━━━━━━━\u001b[0m \u001b[32m615.3/615.3 MB\u001b[0m \u001b[31m2.9 MB/s\u001b[0m eta \u001b[36m0:00:00\u001b[0m\n",
            "\u001b[?25hDownloading tf_keras-2.18.0-py3-none-any.whl (1.7 MB)\n",
            "\u001b[2K   \u001b[90m━━━━━━━━━━━━━━━━━━━━━━━━━━━━━━━━━━━━━━━━\u001b[0m \u001b[32m1.7/1.7 MB\u001b[0m \u001b[31m75.7 MB/s\u001b[0m eta \u001b[36m0:00:00\u001b[0m\n",
            "\u001b[?25hDownloading keras-3.6.0-py3-none-any.whl (1.2 MB)\n",
            "\u001b[2K   \u001b[90m━━━━━━━━━━━━━━━━━━━━━━━━━━━━━━━━━━━━━━━━\u001b[0m \u001b[32m1.2/1.2 MB\u001b[0m \u001b[31m63.5 MB/s\u001b[0m eta \u001b[36m0:00:00\u001b[0m\n",
            "\u001b[?25hDownloading tensorboard-2.18.0-py3-none-any.whl (5.5 MB)\n",
            "\u001b[2K   \u001b[90m━━━━━━━━━━━━━━━━━━━━━━━━━━━━━━━━━━━━━━━━\u001b[0m \u001b[32m5.5/5.5 MB\u001b[0m \u001b[31m108.1 MB/s\u001b[0m eta \u001b[36m0:00:00\u001b[0m\n",
            "\u001b[?25hDownloading wurlitzer-3.1.1-py3-none-any.whl (8.6 kB)\n",
            "Downloading ydf-0.8.0-cp310-cp310-manylinux_2_17_x86_64.manylinux2014_x86_64.whl (9.3 MB)\n",
            "\u001b[2K   \u001b[90m━━━━━━━━━━━━━━━━━━━━━━━━━━━━━━━━━━━━━━━━\u001b[0m \u001b[32m9.3/9.3 MB\u001b[0m \u001b[31m107.5 MB/s\u001b[0m eta \u001b[36m0:00:00\u001b[0m\n",
            "\u001b[?25hInstalling collected packages: ydf, wurlitzer, packaging, tensorboard, keras, tensorflow, tf-keras, tensorflow-decision-forests, tensorflowjs\n",
            "  Attempting uninstall: packaging\n",
            "    Found existing installation: packaging 24.1\n",
            "    Uninstalling packaging-24.1:\n",
            "      Successfully uninstalled packaging-24.1\n",
            "  Attempting uninstall: tensorboard\n",
            "    Found existing installation: tensorboard 2.17.0\n",
            "    Uninstalling tensorboard-2.17.0:\n",
            "      Successfully uninstalled tensorboard-2.17.0\n",
            "  Attempting uninstall: keras\n",
            "    Found existing installation: keras 3.4.1\n",
            "    Uninstalling keras-3.4.1:\n",
            "      Successfully uninstalled keras-3.4.1\n",
            "  Attempting uninstall: tensorflow\n",
            "    Found existing installation: tensorflow 2.17.0\n",
            "    Uninstalling tensorflow-2.17.0:\n",
            "      Successfully uninstalled tensorflow-2.17.0\n",
            "  Attempting uninstall: tf-keras\n",
            "    Found existing installation: tf_keras 2.17.0\n",
            "    Uninstalling tf_keras-2.17.0:\n",
            "      Successfully uninstalled tf_keras-2.17.0\n",
            "Successfully installed keras-3.6.0 packaging-23.2 tensorboard-2.18.0 tensorflow-2.18.0 tensorflow-decision-forests-1.11.0 tensorflowjs-4.22.0 tf-keras-2.18.0 wurlitzer-3.1.1 ydf-0.8.0\n"
          ]
        },
        {
          "output_type": "display_data",
          "data": {
            "application/vnd.colab-display-data+json": {
              "pip_warning": {
                "packages": [
                  "keras",
                  "tensorflow"
                ]
              },
              "id": "d6c766bc42cc4baa9bebc0151bd5fe04"
            }
          },
          "metadata": {}
        }
      ]
    },
    {
      "cell_type": "code",
      "source": [
        "import tensorflowjs as tfjs\n",
        "import tensorflow as tf\n",
        "\n",
        "# Muat model dengan format .keras\n",
        "model = tf.keras.models.load_model('/content/drive/MyDrive/Colab_Notebooks/best_corn_disease_model.keras')\n",
        "\n",
        "# Simpan model sebagai TensorFlow.js\n",
        "tfjs.converters.save_keras_model(model, '/content/drive/MyDrive/Colab_Notebooks/tfjs_model')\n",
        "\n",
        "print(\"Model telah disimpan dalam format TensorFlow.js di folder 'tfjs_model'.\")"
      ],
      "metadata": {
        "colab": {
          "base_uri": "https://localhost:8080/"
        },
        "id": "Ys3xDowToSL3",
        "outputId": "1c5dbe30-9639-4bda-c0bf-04999590bf97"
      },
      "execution_count": 3,
      "outputs": [
        {
          "output_type": "stream",
          "name": "stderr",
          "text": [
            "WARNING:absl:You are saving your model as an HDF5 file via `model.save()` or `keras.saving.save_model(model)`. This file format is considered legacy. We recommend using instead the native Keras format, e.g. `model.save('my_model.keras')` or `keras.saving.save_model(model, 'my_model.keras')`. \n"
          ]
        },
        {
          "output_type": "stream",
          "name": "stdout",
          "text": [
            "failed to lookup keras version from the file,\n",
            "    this is likely a weight only file\n",
            "Model telah disimpan dalam format TensorFlow.js di folder 'tfjs_model'.\n"
          ]
        }
      ]
    }
  ]
}